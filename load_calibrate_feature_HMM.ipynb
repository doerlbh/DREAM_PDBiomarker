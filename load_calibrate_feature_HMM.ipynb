{
 "cells": [
  {
   "cell_type": "markdown",
   "metadata": {},
   "source": [
    "# load data from Synapse ADI, perform a quaternion rotation."
   ]
  },
  {
   "cell_type": "code",
   "execution_count": null,
   "metadata": {
    "collapsed": false
   },
   "outputs": [],
   "source": [
    "%reset"
   ]
  },
  {
   "cell_type": "code",
   "execution_count": null,
   "metadata": {
    "collapsed": false
   },
   "outputs": [],
   "source": [
    "import synapseclient\n",
    "import numpy as np\n",
    "import pandas as pd\n",
    "import matplotlib.pylab as pl\n",
    "import json\n",
    "import peakutils\n",
    "from peakutils.plot import plot as pplot\n",
    "from scipy import signal, ndimage, io, stats\n",
    "import scipy.integrate as integrate\n",
    "from math import factorial\n",
    "from scipy.stats import mode"
   ]
  },
  {
   "cell_type": "code",
   "execution_count": null,
   "metadata": {
    "collapsed": false
   },
   "outputs": [],
   "source": [
    "# Login into the Synapse Client\n",
    "\n",
    "# syn = synapseclient.Synapse()\n",
    "syn = synapseclient.login()\n",
    "\n",
    "# Enter login and password\n",
    "#syn.login('login','password')"
   ]
  },
  {
   "cell_type": "markdown",
   "metadata": {},
   "source": [
    "# Query demographics table"
   ]
  },
  {
   "cell_type": "code",
   "execution_count": null,
   "metadata": {
    "collapsed": false
   },
   "outputs": [],
   "source": [
    "# demographicstable = syn.tableQuery('select * from syn5511429')\n",
    "\n",
    "INPUT_DEMO_SYNID = \"syn10146552\"\n",
    "\n",
    "demo_syntable = syn.tableQuery(\"SELECT * FROM syn10146552\")\n",
    "demo = demo_syntable.asDataFrame()\n",
    "healthCodeList = \", \".join( repr(i) for i in demo[\"healthCode\"]) \n"
   ]
  },
  {
   "cell_type": "markdown",
   "metadata": {},
   "source": [
    "# Query multiple datasets, starting from DeviceMotion"
   ]
  },
  {
   "cell_type": "code",
   "execution_count": null,
   "metadata": {
    "collapsed": false
   },
   "outputs": [],
   "source": [
    "INPUT_WALKING_ACTIVITY_TABLE_SYNID = \"syn10146553\"\n",
    "walkingtable = syn.tableQuery(('select * FROM {0} WHERE healthCode IN ({1}) AND \"deviceMotion_walking_outbound.json.items\" is not null LIMIT 500').format(INPUT_WALKING_ACTIVITY_TABLE_SYNID, healthCodeList))                              \n",
    "walking_df = walkingtable.asDataFrame()\n",
    "walking_df['idx'] = walking_df.index\n",
    "walking_df = walking_df.drop(['createdOn', 'appVersion', 'phoneInfo','accel_walking_outbound.json.items',\n",
    "                              'pedometer_walking_outbound.json.items','accel_walking_return.json.items',\n",
    "                              'deviceMotion_walking_return.json.items','pedometer_walking_return.json.items',\n",
    "                              'accel_walking_rest.json.items'],axis=1)\n",
    "\n",
    "walking_df = walking_df.dropna()\n",
    "\n",
    "filePaths_DMoutbound = syn.downloadTableColumns(walkingtable, ['deviceMotion_walking_outbound.json.items'])\n",
    "filePaths_DMrest = syn.downloadTableColumns(walkingtable, ['deviceMotion_walking_rest.json.items'])"
   ]
  },
  {
   "cell_type": "markdown",
   "metadata": {},
   "source": [
    "# store DeviceMotion datasets in dataframes and pickle them"
   ]
  },
  {
   "cell_type": "code",
   "execution_count": null,
   "metadata": {
    "collapsed": false
   },
   "outputs": [],
   "source": [
    "demographics_df=demographicstable.asDataFrame()\n",
    "\n",
    "wlist = np.arange(len(walking_df))\n",
    "\n",
    "DMoutboundPathlist=[filePaths_DMoutbound[str(int(walking_df.ix[entry,'deviceMotion_walking_outbound.json.items']))] for entry in wlist] \n",
    "DMrestPathlist = [filePaths_DMrest[str(int(walking_df.ix[entry,'deviceMotion_walking_rest.json.items']))] for entry in wlist]\n",
    "\n",
    "walking_df['DMoutboundPaths'] = DMoutboundPathlist\n",
    "walking_df['DMrestPaths'] = DMrestPathlist\n",
    "\n",
    "demographics_df.to_pickle('demographics_df.pkl')\n",
    "walking_df.to_pickle('walking_df.pkl')"
   ]
  },
  {
   "cell_type": "markdown",
   "metadata": {},
   "source": [
    "# perform a quaternion rotation on the accelerometer files"
   ]
  },
  {
   "cell_type": "code",
   "execution_count": null,
   "metadata": {
    "collapsed": false
   },
   "outputs": [],
   "source": [
    "# This function makes sure that the each quaternion in the angular phone information vector is properly normalized. The\n",
    "# magnitude should be close to 1 within some tolerance. If it is not, rescale the quaternion.\n",
    "\n",
    "def normalize(v, tolerance=0.00001):\n",
    "    mag2 = sum(n * n for n in v)\n",
    "    if abs(mag2 - 1.0) > tolerance:\n",
    "        mag = sqrt(mag2)\n",
    "        v = tuple(n / mag for n in v)\n",
    "    return v\n"
   ]
  },
  {
   "cell_type": "code",
   "execution_count": null,
   "metadata": {
    "collapsed": true
   },
   "outputs": [],
   "source": [
    "# This funciton returns the conjugate of the quaternion\n",
    "\n",
    "def get_quaternion_conjugate(quaternion):\n",
    "    w, x, y, z = quaternion\n",
    "    return (w, -x, -y, -z)"
   ]
  },
  {
   "cell_type": "code",
   "execution_count": null,
   "metadata": {
    "collapsed": true
   },
   "outputs": [],
   "source": [
    "# This function multiples two quaternions\n",
    "\n",
    "def multiply_quaternions(quaternion1, quaternion2):\n",
    "    w1, x1, y1, z1 = quaternion1\n",
    "    w2, x2, y2, z2 = quaternion2\n",
    "    # rearranged a little for my own clarity\n",
    "    w = (w1 * w2) - (x1 * x2) - (y1 * y2) - (z1 * z2)\n",
    "    x = (w1 * x2) + (x1 * w2) + (y1 * z2) - (z1 * y2)\n",
    "    y = (w1 * y2) - (x1 * z2) + (y1 * w2) + (z1 * x2)\n",
    "    z = (w1 * z2) + (x1 * y2) - (y1 * x2) + (z1 * w2)  \n",
    "    return w, x, y, z\n",
    "\n",
    "def multiply_quaternionANDvector(q1, v1):\n",
    "    q1 = normalize(q1,tolerance = 0.00001) \n",
    "    q2 = (0.0,) + v1\n",
    "    return multiply_quaternions(multiply_quaternions(q1, q2), get_quaternion_conjugate(q1))[1:]"
   ]
  },
  {
   "cell_type": "markdown",
   "metadata": {},
   "source": [
    "# combine into a datastructure from all datasets"
   ]
  },
  {
   "cell_type": "code",
   "execution_count": null,
   "metadata": {
    "collapsed": true
   },
   "outputs": [],
   "source": [
    "dfdata= {'time':[],'rotX':[],'rotY':[],'rotZ':[],'total_rawacceleration':[],'rest_time':[],'rest_rotX':[],'rest_rotY':[],'rest_rotZ':[],'rest_total_rawacceleration':[],'healthCode':[]}\n",
    "Accelerometer_df = pd.DataFrame(dfdata, columns =['time','rotX','rotY','rotZ','total_rawacceleration','rest_time','rest_rotX','rest_rotY','rest_rotZ','rest_total_rawacceleration','healthCode'])"
   ]
  },
  {
   "cell_type": "markdown",
   "metadata": {},
   "source": [
    "# load accelerometer data"
   ]
  },
  {
   "cell_type": "code",
   "execution_count": null,
   "metadata": {
    "collapsed": true
   },
   "outputs": [],
   "source": [
    "mypkls =['0_2500','2500_5000','5000_7500','7500_10000','10000_12500','12500_15000','15000_17500',\n",
    "         '17500_20000','20000_22500','22500_23093']\n",
    "\n",
    "for entry in range(0,2500):\n",
    "    \n",
    "    if entry % 250 == 0:\n",
    "        print entry\n",
    "        \n",
    "    healthCode = walking_df['healthCode'][entry]\n",
    "    recordId = walking_df['recordId'][entry]\n",
    "    medTimepoint = walking_df['medTimepoint'][entry]\n",
    "    walkPath = walking_df['DMoutboundPaths'][entry]\n",
    "    restPath = walking_df['DMrestPaths'][entry]\n",
    "\n",
    "    walkingrecord = [json.loads(line) for line in open(walkPath)]\n",
    "    restrecord = [json.loads(line) for line in open(restPath)]\n",
    "    \n",
    "    walkingrecordlist=walkingrecord[0]\n",
    "    restrecordlist=restrecord[0]\n",
    "    \n",
    "    barlist = np.arange(len(walkingrecordlist))\n",
    "    restbarlist = np.arange(len(restrecordlist))\n",
    "    \n",
    "    time = []\n",
    "    acceleration_vector = []\n",
    "    attitude_quaternion = []\n",
    "    rest_acceleration_vector = []\n",
    "    attitude_quaternion = []\n",
    "    \n",
    "    time = [(walkingrecordlist[bar]['timestamp']) for bar in barlist]\n",
    "    acceleration_vector = [(walkingrecordlist[bar]['userAcceleration']['x'],\n",
    "                            walkingrecordlist[bar]['userAcceleration']['y'],\n",
    "                            walkingrecordlist[bar]['userAcceleration']['z']) for bar in barlist]\n",
    "    attitude_quaternion = [(walkingrecordlist[bar]['attitude']['w'],\n",
    "                            walkingrecordlist[bar]['attitude']['x'],\n",
    "                            walkingrecordlist[bar]['attitude']['y'],\n",
    "                            walkingrecordlist[bar]['attitude']['z']) for bar in barlist]\n",
    "    \n",
    "    rest_time = [(restrecordlist[restbar]['timestamp']) for restbar in restbarlist]\n",
    "    rest_acceleration_vector = [(restrecordlist[restbar]['userAcceleration']['x'],\n",
    "                            restrecordlist[restbar]['userAcceleration']['y'],\n",
    "                            restrecordlist[restbar]['userAcceleration']['z']) for bar in restbarlist]\n",
    "    rest_attitude_quaternion = [(restrecordlist[restbar]['attitude']['w'],\n",
    "                            restrecordlist[restbar]['attitude']['x'],\n",
    "                            restrecordlist[restbar]['attitude']['y'],\n",
    "                            restrecordlist[restbar]['attitude']['z']) for restbar in restbarlist]\n",
    "    \n",
    "    # Calculate quadratic mean of original acceleration signal - this will be used as another directionless \"axis\" in my feature calculations\n",
    "    [X, Y, Z] = zip(*acceleration_vector) \n",
    "    total_rawacceleration = np.sqrt(np.square(X)+np.square(Y)+np.square(Z))\n",
    "    [restX, restY, restZ] = zip(*rest_acceleration_vector) \n",
    "    rest_total_rawacceleration = np.sqrt(np.square(restX)+np.square(restY)+np.square(restZ))\n",
    "    \n",
    "    # Apply quaternion rotations here\n",
    "    plist = np.arange(len(acceleration_vector))\n",
    "    quatrot = [multiply_quaternionANDvector(attitude_quaternion[p],acceleration_vector[p]) for p in plist]\n",
    "    [rotX, rotY, rotZ] = zip(*quatrot) \n",
    "    \n",
    "    rlist = np.arange(len(rest_acceleration_vector))\n",
    "    rest_quatrot = [multiply_quaternionANDvector(rest_attitude_quaternion[r],rest_acceleration_vector[r]) for r in rlist]\n",
    "    [rest_rotX, rest_rotY, rest_rotZ] = zip(*rest_quatrot) \n",
    "    \n",
    "    dfdata= {'time':[],'rotX':[],'rotY':[],'rotZ':[],'total_rawacceleration':[],'rest_time':[],'rest_rotX':[],'rest_rotY':[],'rest_rotZ':[],'rest_total_rawacceleration':[],'healthCode':[]}\n",
    "\n",
    "    Accelerometer_df = Accelerometer_df.append({'time':time,'rotX':rotX,'rotY':rotY,'rotZ':rotZ,\n",
    "                                                'total_rawacceleration':total_rawacceleration,'rest_time':rest_time,\n",
    "                                                'rest_rotX':rest_rotX,'rest_rotY':rest_rotY,'rest_rotZ':rest_rotZ,\n",
    "                                                'rest_total_rawacceleration':rest_total_rawacceleration,\n",
    "                                                'healthCode':healthCode, 'recordId':recordId,'medTimepoint':medTimepoint},ignore_index=True)\n",
    "    "
   ]
  },
  {
   "cell_type": "markdown",
   "metadata": {},
   "source": [
    "# cross-reference accelerometer data with demographics data and pickle"
   ]
  },
  {
   "cell_type": "code",
   "execution_count": null,
   "metadata": {
    "collapsed": true
   },
   "outputs": [],
   "source": [
    "# add relevant demographics data to walking activity feature data frame\n",
    "Demographics_df = demographics_df.drop(['recordId','createdOn','appVersion','phoneInfo','are-caretaker', 'deep-brain-stimulation',\n",
    "                                        'education','employment','health-history','healthcare-provider',\n",
    "                                        'home-usage','last-smoked','maritalStatus','medical-usage',\n",
    "                                        'medical-usage-yesterday','packs-per-day',\n",
    "                                        'past-participation','phone-usage','race','smartphone',\n",
    "                                        'smoked','surgery','video-usage','years-smoking',\n",
    "                                        'diagnosis-year','medication-start-year','onset-year'],axis=1)\n",
    "Combined_df = pd.merge(Accelerometer_df, Demographics_df, on='healthCode')\n",
    "\n",
    "Final_df.to_pickle('Accelerometer_Demographics_df')"
   ]
  },
  {
   "cell_type": "code",
   "execution_count": null,
   "metadata": {
    "collapsed": true
   },
   "outputs": [],
   "source": []
  },
  {
   "cell_type": "code",
   "execution_count": null,
   "metadata": {
    "collapsed": true
   },
   "outputs": [],
   "source": [
    "##############################################################################\n",
    "# Plot a sample time series\n",
    "\n",
    "\n",
    "\n",
    "pl.figure()\n",
    "pl.plot(fpr, tpr, 'g',label='ROC curve (area = %0.2f)' % roc_auc)\n",
    "pl.plot([0, 1], [0, 1], 'k--')\n",
    "pl.xlim([0.0, 1.0])\n",
    "pl.ylim([0.0, 1.05])\n",
    "pl.xticks(color = 'k', size = 28)\n",
    "pl.yticks(color = 'k', size = 28)\n",
    "pl.xlabel('False Positive Rate',{'color':'k','fontsize': 28})\n",
    "pl.ylabel('True Positive Rate',{'color':'k','fontsize': 28})\n",
    "pl.title('Receiver operating characteristic',{'color':'k','fontsize': 28})\n",
    "pl.legend(loc=\"lower right\",fontsize= 18)\n",
    "pl.show()"
   ]
  },
  {
   "cell_type": "code",
   "execution_count": null,
   "metadata": {
    "collapsed": true
   },
   "outputs": [],
   "source": []
  },
  {
   "cell_type": "code",
   "execution_count": null,
   "metadata": {
    "collapsed": true
   },
   "outputs": [],
   "source": []
  },
  {
   "cell_type": "code",
   "execution_count": null,
   "metadata": {
    "collapsed": true
   },
   "outputs": [],
   "source": []
  },
  {
   "cell_type": "code",
   "execution_count": null,
   "metadata": {
    "collapsed": true
   },
   "outputs": [],
   "source": []
  },
  {
   "cell_type": "code",
   "execution_count": null,
   "metadata": {
    "collapsed": true
   },
   "outputs": [],
   "source": []
  },
  {
   "cell_type": "code",
   "execution_count": null,
   "metadata": {
    "collapsed": true
   },
   "outputs": [],
   "source": []
  },
  {
   "cell_type": "code",
   "execution_count": null,
   "metadata": {
    "collapsed": true
   },
   "outputs": [],
   "source": []
  },
  {
   "cell_type": "code",
   "execution_count": null,
   "metadata": {
    "collapsed": true
   },
   "outputs": [],
   "source": []
  },
  {
   "cell_type": "markdown",
   "metadata": {},
   "source": [
    "# load necessary data into feature spaces"
   ]
  },
  {
   "cell_type": "code",
   "execution_count": null,
   "metadata": {
    "collapsed": true
   },
   "outputs": [],
   "source": [
    "featureinfo = {'healthCode':[],'record':[],'age':[],'gender':[],'professional-diagnosis':[],'recordId':[],\n",
    "               'totpowerX':[],'totpowerY':[],'totpowerZ':[],\n",
    "               'powentropyX':[], 'powentropyY':[],'powentropyZ':[],\n",
    "               'numpeaksX':[],'numpeaksY':[],'numpeaksZ':[],\n",
    "               'MEANpeakintX':[],'MEANpeakintY':[],'MEANpeakintZ':[],\n",
    "               'CVpeakintX':[],'CVpeakintY':[],'CVpeakintZ':[],'duration':[],\n",
    "               'FFT1Z':[],'FFT2Z':[],'FFT3Z':[],\n",
    "               'modeFFT1chunksX':[], 'SDFFT1chunksX':[], 'modeFFT2chunksX':[],'SDFFT2chunksX':[], 'modeFFT3chunksX':[], 'SDFFT3chunksX':[],\n",
    "               'meanpowchunksX':[],'CVpowchunksX':[],'meanentropychunksX':[],'CVentropychunksX':[],\n",
    "               'modeFFT1chunksY':[], 'SDFFT1chunksY':[],'modeFFT2chunksY':[], 'SDFFT2chunksY':[], 'modeFFT3chunksY':[], 'SDFFT3chunksY':[],\n",
    "               'meanpowchunksY':[],'CVpowchunksY':[],'meanentropychunksY':[],'CVentropychunksY':[],\n",
    "               'modeFFT1chunksZ':[], 'SDFFT1chunksZ':[], 'modeFFT2chunksZ':[], 'SDFFT2chunksZ':[], 'modeFFT3chunksZ':[], 'SDFFT3chunksZ':[],\n",
    "               'meanpowchunksZ':[],'CVpowchunksZ':[],'meanentropychunksZ':[],'CVentropychunksZ':[],\n",
    "               'onset_lag':[],'sumabs_acceleration':[]}\n",
    "\n",
    "feature_df = pd.DataFrame(featureinfo,columns =['healthCode','record','age', 'gender','professional-diagnosis','recordId',\n",
    "                                                'totpowerX','totpowerY','totpowerZ',\n",
    "                                                'powentropyX','powentropyY','powentropyZ',\n",
    "                                                'numpeaksX','numpeaksY','numpeaksZ',\n",
    "                                                'MEANpeakintX','MEANpeakintY','MEANpeakintZ',\n",
    "                                                'CVpeakintX','CVpeakintY','CVpeakintZ',\n",
    "                                                'duration','FFT1Z','FFT2Z','FFT3Z',\n",
    "                                                'modeFFT1chunksX','modeFFT2chunksX','SDFFT1chunksX', 'SDFFT2chunksX', 'modeFFT3chunksX', 'SDFFT3chunksX', \n",
    "                                                'meanpowchunksX','CVpowchunksX','meanentropychunksX','CVentropychunksX',\n",
    "                                                'modeFFT1chunksY', 'SDFFT1chunksY', 'modeFFT2chunksY', 'SDFFT2chunksY', 'modeFFT3chunksY', 'SDFFT3chunksY',\n",
    "                                                'meanpowchunksY','CVpowchunksY','meanentropychunksY','CVentropychunksY',\n",
    "                                                'modeFFT1chunksZ', 'SDFFT1chunksZ','modeFFT2chunksZ', 'SDFFT2chunksZ', 'modeFFT3chunksZ', 'SDFFT3chunksZ', \n",
    "                                                'meanpowchunksZ','CVpowchunksZ','meanentropychunksZ','CVentropychunksZ',\n",
    "                                                'onset_lag','sumabs_acceleration'])"
   ]
  },
  {
   "cell_type": "code",
   "execution_count": null,
   "metadata": {
    "collapsed": true
   },
   "outputs": [],
   "source": []
  },
  {
   "cell_type": "code",
   "execution_count": null,
   "metadata": {
    "collapsed": true
   },
   "outputs": [],
   "source": []
  },
  {
   "cell_type": "code",
   "execution_count": null,
   "metadata": {
    "collapsed": true
   },
   "outputs": [],
   "source": []
  }
 ],
 "metadata": {
  "kernelspec": {
   "display_name": "Python 2",
   "language": "python",
   "name": "python2"
  },
  "language_info": {
   "codemirror_mode": {
    "name": "ipython",
    "version": 2
   },
   "file_extension": ".py",
   "mimetype": "text/x-python",
   "name": "python",
   "nbconvert_exporter": "python",
   "pygments_lexer": "ipython2",
   "version": "2.7.11"
  }
 },
 "nbformat": 4,
 "nbformat_minor": 0
}
